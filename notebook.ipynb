{
 "cells": [
  {
   "cell_type": "markdown",
   "id": "2b755fd4",
   "metadata": {},
   "source": [
    "# Creating a Blank Jupyter Notebook"
   ]
  }
 ],
 "metadata": {
  "kernelspec": {
   "display_name": "NAG Virtual Environment",
   "language": "python",
   "name": "nag-venv"
  }
 },
 "nbformat": 4,
 "nbformat_minor": 5
}
